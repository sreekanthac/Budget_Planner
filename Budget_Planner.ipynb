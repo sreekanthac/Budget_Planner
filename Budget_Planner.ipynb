{
 "cells": [
  {
   "cell_type": "markdown",
   "metadata": {},
   "source": [
    "# Budget Planner - A Python Project"
   ]
  },
  {
   "cell_type": "markdown",
   "metadata": {},
   "source": [
    "Here I will go through a simple project which I created for one of my friends. It is called Budget Planner, which helps to maintain the track of the budget for a project. To start with it has a front-end GUI and uses Excel as the back-end. Here I will not go into detail about the coding part but will give an idea about the project and how it looks. The python code and the required excel files for this project can be found on my Github page."
   ]
  },
  {
   "cell_type": "markdown",
   "metadata": {},
   "source": [
    "![Main_Screen](Pic_1.jpg)\n",
    "<center>Main screen</center>"
   ]
  },
  {
   "cell_type": "markdown",
   "metadata": {},
   "source": [
    "## The Front-End\n",
    "\n",
    "In the above picture, you can see the entry area which is the front-end for this project. This is created using the tkinter library which is a built-in library. \n",
    "\n",
    "### Various sections explained\n",
    "\n",
    "#### Create New File\n",
    "In this area, we can create a new excel file for tracking the budget. In the entry area, we can provide the file name. It first checks if a file exists with this name, if not it will create a new file by copying the template file provided at the same location, or else it will throw an error with the message \"A file with the same name exists\".\n",
    "\n",
    "#### Load File\n",
    "Here we can load the existing file. In the entry area, we need to provide the file name. If it exists, it will be loaded, else it will throw an error message, \"File does not exist\".\n",
    "\n",
    "#### Current File Name\n",
    "In this area, it displays the name of the file which is loaded.\n",
    "\n",
    "#### Project Data \n",
    "This are will display the data from the excel sheet.\n",
    "\n",
    "#### Add Data\n",
    "In this area, we can add new data and update or delete existing data. Clicking the respective buttons will read the data from the entry area and writes/modifies the excel file. The clear button provided clears the entry area and set it to its default values.\n",
    "\n",
    "#### Budget Information \n",
    "This area displays the budget information.\n",
    "\n",
    "#### Modify Budget\n",
    "From here we can add/modify the budget amount."
   ]
  },
  {
   "cell_type": "markdown",
   "metadata": {},
   "source": [
    "![Main_Screen_Loaded](Pic_2.jpg)\n",
    "<center>Main screen after loading data</center>"
   ]
  },
  {
   "cell_type": "markdown",
   "metadata": {},
   "source": [
    "### After Loading Data\n",
    "\n",
    "In the above screen, we can see how the app looks once the data is loaded. Here a file named Project1 is loaded and it displays the data in the Project Data area. Budget information is displayed in the respective areas."
   ]
  },
  {
   "cell_type": "markdown",
   "metadata": {},
   "source": [
    "## The Back-End\n",
    "\n",
    "For the back-end, I use a simple excel sheet. To access the excel sheet I have used xlwings library. A couple of advantages of this library includes its ease of usage and the ability to access password protected excel files."
   ]
  },
  {
   "cell_type": "markdown",
   "metadata": {},
   "source": [
    "## Conclusion\n",
    "\n",
    "One may wonder why we need to create a GUI app for such simple tasks which can be directly done on the excel file. As I said at the start, this project was done for my friend who wanted to have a simple GUI with which he can achieve this. He wanted to avoid the need to open the excel every time from a particular location and then do whatever he needs. I have created a .exe for this app. So he can directly open this .exe from the desktop and do all the changes or just view the project details by loading the file without the need to open the excel file from the location where it is saved. This according to him helped a lot. And I happily accepted this opportunity to work on this project as this helps me to improve my python skills as well.\n",
    "\n",
    "Hope you enjoyed this project. If you have any questions please feel free to contact me. I am ready to take up new projects as well.\n",
    "\n",
    "Thank You!"
   ]
  }
 ],
 "metadata": {
  "kernelspec": {
   "display_name": "Python 3",
   "language": "python",
   "name": "python3"
  },
  "language_info": {
   "codemirror_mode": {
    "name": "ipython",
    "version": 3
   },
   "file_extension": ".py",
   "mimetype": "text/x-python",
   "name": "python",
   "nbconvert_exporter": "python",
   "pygments_lexer": "ipython3",
   "version": "3.7.4"
  }
 },
 "nbformat": 4,
 "nbformat_minor": 4
}
